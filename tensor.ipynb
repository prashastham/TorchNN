{
 "cells": [
  {
   "cell_type": "code",
   "execution_count": 1,
   "metadata": {},
   "outputs": [],
   "source": [
    "import torch\n",
    "import numpy as np"
   ]
  },
  {
   "cell_type": "code",
   "execution_count": 2,
   "metadata": {},
   "outputs": [
    {
     "name": "stdout",
     "output_type": "stream",
     "text": [
      "Using cuda device\n"
     ]
    }
   ],
   "source": [
    "device = (\n",
    "    \"cuda\"\n",
    "    if torch.cuda.is_available()\n",
    "    else 'mps'\n",
    "    if torch.backends.mps.is_available()\n",
    "    else 'cpu'\n",
    ")\n",
    "\n",
    "print(f\"Using {device} device\")"
   ]
  },
  {
   "cell_type": "code",
   "execution_count": 3,
   "metadata": {},
   "outputs": [
    {
     "data": {
      "text/plain": [
       "torch.Tensor"
      ]
     },
     "execution_count": 3,
     "metadata": {},
     "output_type": "execute_result"
    }
   ],
   "source": [
    "data = [[1, 2], [3, 4]]\n",
    "x_data = torch.tensor(data)\n",
    "type(x_data)"
   ]
  },
  {
   "cell_type": "code",
   "execution_count": 4,
   "metadata": {},
   "outputs": [],
   "source": [
    "# Numpy array to torch tensor\n",
    "np_array = np.array(data)\n",
    "x_np = torch.from_numpy(np_array)"
   ]
  },
  {
   "cell_type": "code",
   "execution_count": 5,
   "metadata": {},
   "outputs": [
    {
     "name": "stdout",
     "output_type": "stream",
     "text": [
      "Ones tensor: \n",
      " tensor([[1, 1],\n",
      "        [1, 1]])\n",
      "\n",
      "Rand tensor: \n",
      " tensor([[0.3689, 0.1311],\n",
      "        [0.9459, 0.5399]])\n",
      "\n"
     ]
    }
   ],
   "source": [
    "x_ones = torch.ones_like(x_data)\n",
    "print(f\"Ones tensor: \\n {x_ones}\\n\")\n",
    "\n",
    "x_rand = torch.rand_like(x_data, dtype=torch.float)\n",
    "print(f\"Rand tensor: \\n {x_rand}\\n\")"
   ]
  },
  {
   "cell_type": "code",
   "execution_count": 6,
   "metadata": {},
   "outputs": [
    {
     "name": "stdout",
     "output_type": "stream",
     "text": [
      "Random tensor: \n",
      " tensor([[0.3279, 0.1569, 0.0803],\n",
      "        [0.4553, 0.9102, 0.4854]])\n",
      "\n",
      "Ones tensor: \n",
      " tensor([[1., 1., 1.],\n",
      "        [1., 1., 1.]])\n",
      "\n",
      "Zeros tensor: \n",
      " tensor([[0., 0., 0.],\n",
      "        [0., 0., 0.]])\n",
      "\n"
     ]
    }
   ],
   "source": [
    "shape = (2, 3,)\n",
    "rand_tensor = torch.rand(shape)\n",
    "ones_tensor = torch.ones(shape)\n",
    "zeros_tensor = torch.zeros(shape)\n",
    "\n",
    "print(f\"Random tensor: \\n {rand_tensor}\\n\")\n",
    "print(f\"Ones tensor: \\n {ones_tensor}\\n\")\n",
    "print(f\"Zeros tensor: \\n {zeros_tensor}\\n\")"
   ]
  },
  {
   "cell_type": "markdown",
   "metadata": {},
   "source": [
    "### Attributes of a tensor"
   ]
  },
  {
   "cell_type": "code",
   "execution_count": 7,
   "metadata": {},
   "outputs": [
    {
     "name": "stdout",
     "output_type": "stream",
     "text": [
      "Shape of tensor: \n",
      " torch.Size([3, 4])\n",
      "\n",
      "Data type of tensor: \n",
      " torch.float32\n",
      "\n",
      "Device tensor is stored on: \n",
      " cpu\n",
      "\n"
     ]
    }
   ],
   "source": [
    "tensor2 = torch.rand(3, 4)\n",
    "\n",
    "print(f\"Shape of tensor: \\n {tensor2.shape}\\n\")\n",
    "print(f\"Data type of tensor: \\n {tensor2.dtype}\\n\")\n",
    "print(f\"Device tensor is stored on: \\n {tensor2.device}\\n\")"
   ]
  },
  {
   "cell_type": "code",
   "execution_count": 8,
   "metadata": {},
   "outputs": [
    {
     "name": "stdout",
     "output_type": "stream",
     "text": [
      "Shape of tensor: \n",
      " torch.Size([3, 4])\n",
      "\n",
      "Data type of tensor: \n",
      " torch.float32\n",
      "\n",
      "Device tensor is stored on: \n",
      " cuda:0\n",
      "\n"
     ]
    }
   ],
   "source": [
    "tensor = torch.rand(3, 4).to(device)\n",
    "\n",
    "print(f\"Shape of tensor: \\n {tensor.shape}\\n\")\n",
    "print(f\"Data type of tensor: \\n {tensor.dtype}\\n\")\n",
    "print(f\"Device tensor is stored on: \\n {tensor.device}\\n\")\n"
   ]
  },
  {
   "cell_type": "code",
   "execution_count": 9,
   "metadata": {},
   "outputs": [
    {
     "name": "stdout",
     "output_type": "stream",
     "text": [
      "First row: tensor([0.5384, 0.5497, 0.8584, 0.8641])\n",
      "First column: tensor([0.5384, 0.4931, 0.5936, 0.1509])\n",
      "Last column: tensor([0.8641, 0.3096, 0.0994, 0.9055])\n",
      "tensor([[0.5384, 0.0000, 0.8584, 0.8641],\n",
      "        [0.4931, 0.0000, 0.1458, 0.3096],\n",
      "        [0.5936, 0.0000, 0.6606, 0.0994],\n",
      "        [0.1509, 0.0000, 0.2999, 0.9055]])\n"
     ]
    }
   ],
   "source": [
    "tensor = torch.rand((4, 4), dtype=torch.float)\n",
    "print(f\"First row: {tensor[0]}\")\n",
    "print(f\"First column: {tensor[:, 0]}\")\n",
    "print(f\"Last column: {tensor[:, -1]}\")\n",
    "tensor[:, 1] = 0\n",
    "print(tensor)"
   ]
  },
  {
   "cell_type": "code",
   "execution_count": 10,
   "metadata": {},
   "outputs": [
    {
     "name": "stdout",
     "output_type": "stream",
     "text": [
      "tensor([[0.5384, 0.0000, 0.8584, 0.8641, 0.5384, 0.0000, 0.8584, 0.8641],\n",
      "        [0.4931, 0.0000, 0.1458, 0.3096, 0.4931, 0.0000, 0.1458, 0.3096],\n",
      "        [0.5936, 0.0000, 0.6606, 0.0994, 0.5936, 0.0000, 0.6606, 0.0994],\n",
      "        [0.1509, 0.0000, 0.2999, 0.9055, 0.1509, 0.0000, 0.2999, 0.9055]])\n",
      "tensor([[0.5384, 0.0000, 0.8584, 0.8641],\n",
      "        [0.4931, 0.0000, 0.1458, 0.3096],\n",
      "        [0.5936, 0.0000, 0.6606, 0.0994],\n",
      "        [0.1509, 0.0000, 0.2999, 0.9055],\n",
      "        [0.5384, 0.0000, 0.8584, 0.8641],\n",
      "        [0.4931, 0.0000, 0.1458, 0.3096],\n",
      "        [0.5936, 0.0000, 0.6606, 0.0994],\n",
      "        [0.1509, 0.0000, 0.2999, 0.9055]])\n"
     ]
    }
   ],
   "source": [
    "# Join tensors\n",
    "t1 = torch.cat([tensor, tensor], dim=1)\n",
    "print(t1)\n",
    "\n",
    "t2 = torch.cat([tensor, tensor], dim=0)\n",
    "print(t2)"
   ]
  },
  {
   "cell_type": "code",
   "execution_count": 11,
   "metadata": {},
   "outputs": [
    {
     "name": "stdout",
     "output_type": "stream",
     "text": [
      "tensor([[[0.5384, 0.0000, 0.8584, 0.8641],\n",
      "         [0.5384, 0.0000, 0.8584, 0.8641]],\n",
      "\n",
      "        [[0.4931, 0.0000, 0.1458, 0.3096],\n",
      "         [0.4931, 0.0000, 0.1458, 0.3096]],\n",
      "\n",
      "        [[0.5936, 0.0000, 0.6606, 0.0994],\n",
      "         [0.5936, 0.0000, 0.6606, 0.0994]],\n",
      "\n",
      "        [[0.1509, 0.0000, 0.2999, 0.9055],\n",
      "         [0.1509, 0.0000, 0.2999, 0.9055]]])\n",
      "tensor([[[0.5384, 0.0000, 0.8584, 0.8641],\n",
      "         [0.4931, 0.0000, 0.1458, 0.3096],\n",
      "         [0.5936, 0.0000, 0.6606, 0.0994],\n",
      "         [0.1509, 0.0000, 0.2999, 0.9055]],\n",
      "\n",
      "        [[0.5384, 0.0000, 0.8584, 0.8641],\n",
      "         [0.4931, 0.0000, 0.1458, 0.3096],\n",
      "         [0.5936, 0.0000, 0.6606, 0.0994],\n",
      "         [0.1509, 0.0000, 0.2999, 0.9055]]])\n"
     ]
    }
   ],
   "source": [
    "t3 = torch.stack([tensor, tensor], dim=1)\n",
    "print(t3)\n",
    "\n",
    "t4 = torch.stack([tensor, tensor], dim=0)\n",
    "print(t4)"
   ]
  },
  {
   "cell_type": "markdown",
   "metadata": {},
   "source": [
    "### Arithmetic operations"
   ]
  },
  {
   "cell_type": "code",
   "execution_count": 12,
   "metadata": {},
   "outputs": [
    {
     "data": {
      "text/plain": [
       "tensor([[1.7734, 0.6582, 0.9726, 1.1211],\n",
       "        [0.6582, 0.3602, 0.4198, 0.3985],\n",
       "        [0.9726, 0.4198, 0.7987, 0.3777],\n",
       "        [1.1211, 0.3985, 0.3777, 0.9326]])"
      ]
     },
     "execution_count": 12,
     "metadata": {},
     "output_type": "execute_result"
    }
   ],
   "source": [
    "# Matrix multiplication\n",
    "y1 = tensor @ tensor.T\n",
    "y2 = tensor.matmul(tensor.T)\n",
    "\n",
    "y3 = torch.rand_like(tensor)\n",
    "torch.matmul(tensor, tensor.T, out=y3)"
   ]
  },
  {
   "cell_type": "code",
   "execution_count": 14,
   "metadata": {},
   "outputs": [
    {
     "data": {
      "text/plain": [
       "tensor([[0.2898, 0.0000, 0.7369, 0.7466],\n",
       "        [0.2431, 0.0000, 0.0213, 0.0959],\n",
       "        [0.3524, 0.0000, 0.4364, 0.0099],\n",
       "        [0.0228, 0.0000, 0.0899, 0.8199]])"
      ]
     },
     "execution_count": 14,
     "metadata": {},
     "output_type": "execute_result"
    }
   ],
   "source": [
    "# Element-wise product\n",
    "z1 = tensor * tensor\n",
    "z2 = tensor.mul(tensor)\n",
    "\n",
    "z3 = torch.rand_like(tensor)\n",
    "torch.mul(tensor, tensor, out=z3)"
   ]
  },
  {
   "cell_type": "code",
   "execution_count": 15,
   "metadata": {},
   "outputs": [
    {
     "name": "stdout",
     "output_type": "stream",
     "text": [
      "agg:  tensor(5.9193) <class 'torch.Tensor'>\n",
      "agg_item:  5.919267654418945 <class 'float'>\n"
     ]
    }
   ],
   "source": [
    "# Single element tensors\n",
    "agg = tensor.sum()\n",
    "print(\"agg: \", agg, type(agg))\n",
    "\n",
    "agg_item = agg.item()\n",
    "print(\"agg_item: \", agg_item, type(agg_item))"
   ]
  },
  {
   "cell_type": "code",
   "execution_count": 16,
   "metadata": {},
   "outputs": [
    {
     "name": "stdout",
     "output_type": "stream",
     "text": [
      "tensor([[0.5384, 0.0000, 0.8584, 0.8641],\n",
      "        [0.4931, 0.0000, 0.1458, 0.3096],\n",
      "        [0.5936, 0.0000, 0.6606, 0.0994],\n",
      "        [0.1509, 0.0000, 0.2999, 0.9055]]) \n",
      "\n",
      "tensor([[5.5384, 5.0000, 5.8584, 5.8641],\n",
      "        [5.4931, 5.0000, 5.1458, 5.3096],\n",
      "        [5.5936, 5.0000, 5.6606, 5.0994],\n",
      "        [5.1509, 5.0000, 5.2999, 5.9055]]) \n",
      "\n"
     ]
    }
   ],
   "source": [
    "# In-place operations -- result stored into the operand\n",
    "print(f\"{tensor} \\n\")\n",
    "tensor.add_(5)\n",
    "print(f\"{tensor} \\n\")"
   ]
  },
  {
   "cell_type": "markdown",
   "metadata": {},
   "source": [
    "### Bridge with numpy"
   ]
  },
  {
   "cell_type": "code",
   "execution_count": 18,
   "metadata": {},
   "outputs": [
    {
     "name": "stdout",
     "output_type": "stream",
     "text": [
      "t: tensor([1., 1., 1., 1., 1.])\n",
      "n: [1. 1. 1. 1. 1.]\n"
     ]
    }
   ],
   "source": [
    "t = torch.ones(5,)\n",
    "print(f\"t: {t}\")\n",
    "\n",
    "n = t.numpy()\n",
    "print(f\"n: {n}\")"
   ]
  },
  {
   "cell_type": "code",
   "execution_count": 19,
   "metadata": {},
   "outputs": [
    {
     "name": "stdout",
     "output_type": "stream",
     "text": [
      "t: tensor([2., 2., 2., 2., 2.])\n",
      "n: [2. 2. 2. 2. 2.]\n"
     ]
    }
   ],
   "source": [
    "# Both variables point to the same memory location\n",
    "t.add_(1)\n",
    "print(f\"t: {t}\")\n",
    "print(f\"n: {n}\")"
   ]
  },
  {
   "cell_type": "code",
   "execution_count": 21,
   "metadata": {},
   "outputs": [
    {
     "name": "stdout",
     "output_type": "stream",
     "text": [
      "n: [1. 1. 1. 1.]\n",
      "t: tensor([1., 1., 1., 1.], dtype=torch.float64)\n"
     ]
    }
   ],
   "source": [
    "n = np.ones(4,)\n",
    "t = torch.from_numpy(n)\n",
    "print(f\"n: {n}\")\n",
    "print(f\"t: {t}\")"
   ]
  },
  {
   "cell_type": "code",
   "execution_count": 22,
   "metadata": {},
   "outputs": [
    {
     "name": "stdout",
     "output_type": "stream",
     "text": [
      "n: [2. 2. 2. 2.]\n",
      "t: tensor([2., 2., 2., 2.], dtype=torch.float64)\n"
     ]
    }
   ],
   "source": [
    "np.add(n, 1, out=n)\n",
    "print(f\"n: {n}\")\n",
    "print(f\"t: {t}\")"
   ]
  }
 ],
 "metadata": {
  "kernelspec": {
   "display_name": "Python 3 (ipykernel)",
   "language": "python",
   "name": "python3"
  }
 },
 "nbformat": 4,
 "nbformat_minor": 2
}
